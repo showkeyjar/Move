{
 "cells": [
  {
   "cell_type": "markdown",
   "metadata": {},
   "source": [
    "# 准备工作"
   ]
  },
  {
   "cell_type": "markdown",
   "metadata": {},
   "source": [
    "+ 载入必要的包"
   ]
  },
  {
   "cell_type": "code",
   "execution_count": 1,
   "metadata": {
    "collapsed": false
   },
   "outputs": [
    {
     "name": "stderr",
     "output_type": "stream",
     "text": [
      "\n",
      "Attaching package: 'dplyr'\n",
      "\n",
      "The following object is masked from 'package:xgboost':\n",
      "\n",
      "    slice\n",
      "\n",
      "The following objects are masked from 'package:stats':\n",
      "\n",
      "    filter, lag\n",
      "\n",
      "The following objects are masked from 'package:base':\n",
      "\n",
      "    intersect, setdiff, setequal, union\n",
      "\n",
      "Warning message:\n",
      "\"package 'pROC' was built under R version 3.3.3\"Type 'citation(\"pROC\")' for a citation.\n",
      "\n",
      "Attaching package: 'pROC'\n",
      "\n",
      "The following objects are masked from 'package:stats':\n",
      "\n",
      "    cov, smooth, var\n",
      "\n"
     ]
    }
   ],
   "source": [
    "library(xgboost)\n",
    "library(readr)\n",
    "library(dplyr)\n",
    "library(tidyr)\n",
    "library(ggplot2)\n",
    "library(pROC)"
   ]
  },
  {
   "cell_type": "markdown",
   "metadata": {},
   "source": [
    "+ 载入数据集"
   ]
  },
  {
   "cell_type": "code",
   "execution_count": 2,
   "metadata": {
    "collapsed": true
   },
   "outputs": [],
   "source": [
    "df_train = read.csv(\"F:/XGBoost/data/cs-training.csv\", stringsAsFactors = FALSE) %>%\n",
    "  na.omit() %>%   # 删除包含缺失值的样本 \n",
    "  select(-`X`)    # 删除第一列索引列"
   ]
  },
  {
   "cell_type": "markdown",
   "metadata": {},
   "source": [
    "# 一共有8个参数需要调节：\n",
    "+ 1 eta[默认0.3]\n",
    "+ 2 nrounds通过xgb.cv和early.stop.round控制\n",
    "+ 3 max_depth[默认6]\n",
    "+ 4 min.child.weight[默认1]\n",
    "+ 5 gamma[默认0]\n",
    "+ 6 subsample[默认1]\n",
    "+ 7 colsample_bytree[默认1]\n",
    "+ 8 scale.pos.weight[默认1]"
   ]
  },
  {
   "cell_type": "markdown",
   "metadata": {},
   "source": [
    "## 1 在较高的`eta`下，调节`nrounds`参数"
   ]
  },
  {
   "cell_type": "code",
   "execution_count": 13,
   "metadata": {
    "collapsed": true
   },
   "outputs": [],
   "source": [
    "xgb_params_1 = list(\n",
    "    objective = \"binary:logistic\", # 二分类问题\n",
    "    eval_metric = \"auc\",           # 用AUC作为评价指标\n",
    "      \n",
    "    # 设置需要调节的参数初始值\n",
    "    eta = 0.1,                     # 初始值设为0.1\n",
    "    max.depth = 5,                 # 取值最好在3-10之间，起始值在4-6之间都是不错的选择\n",
    "    min.child.weight = 1,          # 由于是不平衡的分类问题，选取较小的值\n",
    "    gamma = 0,                     # 初始值为0\n",
    "    subsample = 0.8,               # 最常见的初始值，典型值的范围在0.5-0.9之间\n",
    "    colsample_bytree = 0.8,        # 最常见的初始值，典型值的范围在0.5-0.9之间\n",
    "    scale.pos.weight = 1           # 类别不平衡，初始值设为1\n",
    ")"
   ]
  },
  {
   "cell_type": "code",
   "execution_count": 79,
   "metadata": {
    "collapsed": false,
    "scrolled": false
   },
   "outputs": [
    {
     "name": "stdout",
     "output_type": "stream",
     "text": [
      "[0]\ttrain-auc:0.814889+0.016538\ttest-auc:0.810415+0.024144\n",
      "[1]\ttrain-auc:0.840774+0.002353\ttest-auc:0.836845+0.005437\n",
      "[2]\ttrain-auc:0.845075+0.003042\ttest-auc:0.841190+0.004491\n",
      "[3]\ttrain-auc:0.847378+0.003305\ttest-auc:0.843492+0.003870\n",
      "[4]\ttrain-auc:0.849461+0.001807\ttest-auc:0.845182+0.005201\n",
      "[5]\ttrain-auc:0.851984+0.002282\ttest-auc:0.847325+0.005205\n",
      "[6]\ttrain-auc:0.853262+0.002314\ttest-auc:0.848689+0.005162\n",
      "[7]\ttrain-auc:0.854830+0.002242\ttest-auc:0.849420+0.005202\n",
      "[8]\ttrain-auc:0.856047+0.002163\ttest-auc:0.850001+0.005481\n",
      "[9]\ttrain-auc:0.856945+0.002388\ttest-auc:0.850309+0.005584\n",
      "[10]\ttrain-auc:0.858131+0.002045\ttest-auc:0.851080+0.005656\n",
      "[11]\ttrain-auc:0.859345+0.002245\ttest-auc:0.851359+0.005358\n",
      "[12]\ttrain-auc:0.860676+0.001945\ttest-auc:0.852244+0.005809\n",
      "[13]\ttrain-auc:0.861810+0.001692\ttest-auc:0.852556+0.005521\n",
      "[14]\ttrain-auc:0.862849+0.001672\ttest-auc:0.853108+0.005436\n",
      "[15]\ttrain-auc:0.863856+0.001513\ttest-auc:0.853268+0.005626\n",
      "[16]\ttrain-auc:0.864709+0.001482\ttest-auc:0.853403+0.005609\n",
      "[17]\ttrain-auc:0.865426+0.001558\ttest-auc:0.853325+0.005602\n",
      "[18]\ttrain-auc:0.866366+0.001491\ttest-auc:0.853450+0.005857\n",
      "[19]\ttrain-auc:0.867150+0.001417\ttest-auc:0.853455+0.005561\n",
      "[20]\ttrain-auc:0.868110+0.001562\ttest-auc:0.853340+0.005515\n",
      "[21]\ttrain-auc:0.868864+0.001691\ttest-auc:0.853404+0.005462\n",
      "[22]\ttrain-auc:0.869473+0.001485\ttest-auc:0.853391+0.005449\n",
      "[23]\ttrain-auc:0.869861+0.001418\ttest-auc:0.853330+0.005595\n",
      "[24]\ttrain-auc:0.870399+0.001310\ttest-auc:0.853333+0.005693\n",
      "[25]\ttrain-auc:0.870829+0.001428\ttest-auc:0.853310+0.005706\n",
      "[26]\ttrain-auc:0.871332+0.001293\ttest-auc:0.853342+0.005709\n",
      "[27]\ttrain-auc:0.871798+0.001173\ttest-auc:0.853161+0.005584\n",
      "[28]\ttrain-auc:0.872265+0.001077\ttest-auc:0.853057+0.005657\n",
      "[29]\ttrain-auc:0.872595+0.000940\ttest-auc:0.852994+0.005702\n",
      "[30]\ttrain-auc:0.872881+0.000793\ttest-auc:0.852957+0.005822\n",
      "[31]\ttrain-auc:0.873349+0.000740\ttest-auc:0.852837+0.005860\n",
      "[32]\ttrain-auc:0.873786+0.000866\ttest-auc:0.852855+0.005825\n",
      "[33]\ttrain-auc:0.874294+0.000873\ttest-auc:0.852817+0.005802\n",
      "[34]\ttrain-auc:0.874605+0.000828\ttest-auc:0.852833+0.005803\n",
      "[35]\ttrain-auc:0.875115+0.000958\ttest-auc:0.852775+0.005784\n",
      "[36]\ttrain-auc:0.875512+0.000722\ttest-auc:0.852634+0.005715\n",
      "[37]\ttrain-auc:0.875916+0.000823\ttest-auc:0.852613+0.005712\n",
      "[38]\ttrain-auc:0.876352+0.000832\ttest-auc:0.852542+0.005542\n",
      "[39]\ttrain-auc:0.876685+0.000842\ttest-auc:0.852622+0.005683\n",
      "[40]\ttrain-auc:0.877103+0.000747\ttest-auc:0.852559+0.005619\n",
      "[41]\ttrain-auc:0.877429+0.000821\ttest-auc:0.852481+0.005567\n",
      "[42]\ttrain-auc:0.877735+0.001003\ttest-auc:0.852412+0.005509\n",
      "[43]\ttrain-auc:0.878086+0.001049\ttest-auc:0.852369+0.005533\n",
      "[44]\ttrain-auc:0.878570+0.000918\ttest-auc:0.852203+0.005376\n",
      "[45]\ttrain-auc:0.879015+0.000685\ttest-auc:0.852073+0.005251\n",
      "[46]\ttrain-auc:0.879416+0.000583\ttest-auc:0.852053+0.005241\n",
      "[47]\ttrain-auc:0.879754+0.000724\ttest-auc:0.851995+0.005256\n",
      "[48]\ttrain-auc:0.880217+0.000798\ttest-auc:0.851716+0.005130\n",
      "[49]\ttrain-auc:0.880731+0.000815\ttest-auc:0.851701+0.005220\n",
      "[50]\ttrain-auc:0.881059+0.000730\ttest-auc:0.851568+0.005235\n",
      "[51]\ttrain-auc:0.881489+0.000629\ttest-auc:0.851526+0.005205\n",
      "[52]\ttrain-auc:0.881762+0.000658\ttest-auc:0.851413+0.005269\n",
      "[53]\ttrain-auc:0.882165+0.000670\ttest-auc:0.851323+0.005086\n",
      "[54]\ttrain-auc:0.882478+0.000642\ttest-auc:0.851206+0.005039\n",
      "[55]\ttrain-auc:0.882793+0.000586\ttest-auc:0.851214+0.005044\n",
      "[56]\ttrain-auc:0.883122+0.000787\ttest-auc:0.851159+0.005173\n",
      "[57]\ttrain-auc:0.883691+0.000635\ttest-auc:0.851126+0.005352\n",
      "[58]\ttrain-auc:0.884155+0.000613\ttest-auc:0.851020+0.005500\n",
      "[59]\ttrain-auc:0.884450+0.000590\ttest-auc:0.850916+0.005322\n",
      "[60]\ttrain-auc:0.884830+0.000535\ttest-auc:0.850744+0.005367\n",
      "[61]\ttrain-auc:0.885258+0.000600\ttest-auc:0.850625+0.005466\n",
      "[62]\ttrain-auc:0.885598+0.000829\ttest-auc:0.850570+0.005477\n",
      "[63]\ttrain-auc:0.885952+0.000923\ttest-auc:0.850494+0.005448\n",
      "[64]\ttrain-auc:0.886217+0.000930\ttest-auc:0.850328+0.005491\n",
      "[65]\ttrain-auc:0.886535+0.001035\ttest-auc:0.850230+0.005456\n",
      "[66]\ttrain-auc:0.886902+0.001051\ttest-auc:0.850129+0.005446\n",
      "[67]\ttrain-auc:0.887183+0.001084\ttest-auc:0.850128+0.005528\n",
      "[68]\ttrain-auc:0.887581+0.001039\ttest-auc:0.850094+0.005596\n",
      "[69]\ttrain-auc:0.887948+0.000921\ttest-auc:0.849989+0.005580\n",
      "Stopping. Best iteration: 20"
     ]
    }
   ],
   "source": [
    "set.seed(27)\n",
    "xgb_1 = xgb.cv(data = as.matrix(df_train %>% select(-SeriousDlqin2yrs)),\n",
    "               label = df_train$SeriousDlqin2yrs,\n",
    "               params = xgb_params_1,\n",
    "               nrounds = 1000,\n",
    "               \n",
    "               # 固定不变的参数\n",
    "               nfold = 5,                                                   # 5折交叉验证\n",
    "               stratified = TRUE,                                           # 不平衡样本，分层采样\n",
    "               verbose = TRUE,\n",
    "               early.stop.round = 50\n",
    ")"
   ]
  },
  {
   "cell_type": "markdown",
   "metadata": {},
   "source": [
    "### 在`eta`为0.1时，最优的`nrounds`为77"
   ]
  },
  {
   "cell_type": "markdown",
   "metadata": {},
   "source": [
    "## 2 给定`eta`、`nrounds`，进行决策树参数调优\n",
    "`max.depth` 、 `min.child.weight` 、 `gamma` 、 `subsample` 、 `colsample.bytree`"
   ]
  },
  {
   "cell_type": "markdown",
   "metadata": {},
   "source": [
    "### 2.1 `max.depth` 和 `min.child.weight`参数调优"
   ]
  },
  {
   "cell_type": "code",
   "execution_count": 35,
   "metadata": {
    "collapsed": false
   },
   "outputs": [],
   "source": [
    "xgb_params_2 = list(\n",
    "    objective = \"binary:logistic\",\n",
    "    eval_metric = \"auc\",\n",
    "    \n",
    "    eta = 0.1,                     # 初始值设为0.1\n",
    "    nrounds = 77,\n",
    "    gamma = 0,                     # 初始值为0\n",
    "    subsample = 0.8,               # 最常见的初始值，典型值的范围在0.5-0.9之间\n",
    "    colsample_bytree = 0.8,        # 最常见的初始值，典型值的范围在0.5-0.9之间\n",
    "    scale.pos.weight = 1           # 类别不平衡，初始值设为1\n",
    ")"
   ]
  },
  {
   "cell_type": "code",
   "execution_count": 28,
   "metadata": {
    "collapsed": false
   },
   "outputs": [],
   "source": [
    "max.depth = seq(3, 9, 2)\n",
    "min.child.weight = seq(1, 5, 2)\n",
    "to_tune = expand.grid(max.depth = max.depth, min.child.weight = min.child.weight)"
   ]
  },
  {
   "cell_type": "code",
   "execution_count": 150,
   "metadata": {
    "collapsed": false
   },
   "outputs": [],
   "source": [
    "result = vector(mode = 'numeric', length = 4)\n",
    "names(result) = c('test.auc.mean', 'test.auc.std', 'max.depth', 'min.child.weight')\n",
    "\n",
    "for (i in seq(dim(to_tune)[1])) {\n",
    "    xgb_params_2$max.depth = to_tune[i, 1]\n",
    "    xgb_params_2$min.child.weight = to_tune[i, 2]\n",
    "    \n",
    "    set.seed(27)\n",
    "    xgb_2 = xgb.cv(data = as.matrix(df_train %>% select(-SeriousDlqin2yrs)),\n",
    "                   label = df_train$SeriousDlqin2yrs,\n",
    "                   params = xgb_params_2,\n",
    "\n",
    "                   nfold = 5,\n",
    "                   stratified = TRUE,\n",
    "                   verbose = FALSE,\n",
    "                   prediction = TRUE                                            # 添加这一参数，才会输出auc\n",
    "    )\n",
    "    \n",
    "    stats = as.data.frame(xgb_2$dt)\n",
    "    stats_params = c(stats[nrow(xgb_2$dt), 3], stats[nrow(xgb_2$dt), 4], to_tune[i, 1], to_tune[i, 2])\n",
    "    names(stats_params) = c('test.auc.mean', 'test.auc.std', 'max.depth', 'min.child.weight')\n",
    "    \n",
    "    result = rbind(result, stats_params)\n",
    "}"
   ]
  },
  {
   "cell_type": "code",
   "execution_count": 168,
   "metadata": {
    "collapsed": false
   },
   "outputs": [
    {
     "data": {
      "text/html": [
       "<table>\n",
       "<thead><tr><th></th><th scope=col>test.auc.mean</th><th scope=col>test.auc.std</th><th scope=col>max.depth</th><th scope=col>min.child.weight</th></tr></thead>\n",
       "<tbody>\n",
       "\t<tr><th scope=row>stats_params</th><td>0.854751</td><td>0.005685</td><td>3       </td><td>1       </td></tr>\n",
       "\t<tr><th scope=row>stats_params.1</th><td>0.855423</td><td>0.005471</td><td>5       </td><td>1       </td></tr>\n",
       "\t<tr><th scope=row>stats_params.2</th><td>0.853199</td><td>0.005482</td><td>7       </td><td>1       </td></tr>\n",
       "\t<tr><th scope=row>stats_params.3</th><td>0.850534</td><td>0.004927</td><td>9       </td><td>1       </td></tr>\n",
       "\t<tr><th scope=row>stats_params.4</th><td>0.854745</td><td>0.005654</td><td>3       </td><td>3       </td></tr>\n",
       "\t<tr><th scope=row>stats_params.5</th><td>0.855603</td><td>0.005375</td><td>5       </td><td>3       </td></tr>\n",
       "\t<tr><th scope=row>stats_params.6</th><td>0.853897</td><td>0.005362</td><td>7       </td><td>3       </td></tr>\n",
       "\t<tr><th scope=row>stats_params.7</th><td>0.850961</td><td>0.005332</td><td>9       </td><td>3       </td></tr>\n",
       "\t<tr><th scope=row>stats_params.8</th><td>0.854725</td><td>0.005492</td><td>3       </td><td>5       </td></tr>\n",
       "\t<tr><th scope=row>stats_params.9</th><td>0.855361</td><td>0.005456</td><td>5       </td><td>5       </td></tr>\n",
       "\t<tr><th scope=row>stats_params.10</th><td>0.853940</td><td>0.005342</td><td>7       </td><td>5       </td></tr>\n",
       "\t<tr><th scope=row>stats_params.11</th><td>0.851226</td><td>0.005093</td><td>9       </td><td>5       </td></tr>\n",
       "</tbody>\n",
       "</table>\n"
      ],
      "text/latex": [
       "\\begin{tabular}{r|llll}\n",
       "  & test.auc.mean & test.auc.std & max.depth & min.child.weight\\\\\n",
       "\\hline\n",
       "\tstats\\_params & 0.854751 & 0.005685 & 3        & 1       \\\\\n",
       "\tstats\\_params.1 & 0.855423 & 0.005471 & 5        & 1       \\\\\n",
       "\tstats\\_params.2 & 0.853199 & 0.005482 & 7        & 1       \\\\\n",
       "\tstats\\_params.3 & 0.850534 & 0.004927 & 9        & 1       \\\\\n",
       "\tstats\\_params.4 & 0.854745 & 0.005654 & 3        & 3       \\\\\n",
       "\tstats\\_params.5 & 0.855603 & 0.005375 & 5        & 3       \\\\\n",
       "\tstats\\_params.6 & 0.853897 & 0.005362 & 7        & 3       \\\\\n",
       "\tstats\\_params.7 & 0.850961 & 0.005332 & 9        & 3       \\\\\n",
       "\tstats\\_params.8 & 0.854725 & 0.005492 & 3        & 5       \\\\\n",
       "\tstats\\_params.9 & 0.855361 & 0.005456 & 5        & 5       \\\\\n",
       "\tstats\\_params.10 & 0.853940 & 0.005342 & 7        & 5       \\\\\n",
       "\tstats\\_params.11 & 0.851226 & 0.005093 & 9        & 5       \\\\\n",
       "\\end{tabular}\n"
      ],
      "text/markdown": [
       "\n",
       "| <!--/--> | test.auc.mean | test.auc.std | max.depth | min.child.weight | \n",
       "|---|---|---|---|---|---|---|---|---|---|---|---|\n",
       "| stats_params | 0.854751 | 0.005685 | 3        | 1        | \n",
       "| stats_params.1 | 0.855423 | 0.005471 | 5        | 1        | \n",
       "| stats_params.2 | 0.853199 | 0.005482 | 7        | 1        | \n",
       "| stats_params.3 | 0.850534 | 0.004927 | 9        | 1        | \n",
       "| stats_params.4 | 0.854745 | 0.005654 | 3        | 3        | \n",
       "| stats_params.5 | 0.855603 | 0.005375 | 5        | 3        | \n",
       "| stats_params.6 | 0.853897 | 0.005362 | 7        | 3        | \n",
       "| stats_params.7 | 0.850961 | 0.005332 | 9        | 3        | \n",
       "| stats_params.8 | 0.854725 | 0.005492 | 3        | 5        | \n",
       "| stats_params.9 | 0.855361 | 0.005456 | 5        | 5        | \n",
       "| stats_params.10 | 0.853940 | 0.005342 | 7        | 5        | \n",
       "| stats_params.11 | 0.851226 | 0.005093 | 9        | 5        | \n",
       "\n",
       "\n"
      ],
      "text/plain": [
       "                test.auc.mean test.auc.std max.depth min.child.weight\n",
       "stats_params    0.854751      0.005685     3         1               \n",
       "stats_params.1  0.855423      0.005471     5         1               \n",
       "stats_params.2  0.853199      0.005482     7         1               \n",
       "stats_params.3  0.850534      0.004927     9         1               \n",
       "stats_params.4  0.854745      0.005654     3         3               \n",
       "stats_params.5  0.855603      0.005375     5         3               \n",
       "stats_params.6  0.853897      0.005362     7         3               \n",
       "stats_params.7  0.850961      0.005332     9         3               \n",
       "stats_params.8  0.854725      0.005492     3         5               \n",
       "stats_params.9  0.855361      0.005456     5         5               \n",
       "stats_params.10 0.853940      0.005342     7         5               \n",
       "stats_params.11 0.851226      0.005093     9         5               "
      ]
     },
     "metadata": {},
     "output_type": "display_data"
    }
   ],
   "source": [
    "result = as.data.frame(result)[-1,]\n",
    "result"
   ]
  },
  {
   "cell_type": "code",
   "execution_count": 169,
   "metadata": {
    "collapsed": false
   },
   "outputs": [
    {
     "data": {
      "text/html": [
       "<table>\n",
       "<thead><tr><th></th><th scope=col>test.auc.mean</th><th scope=col>test.auc.std</th><th scope=col>max.depth</th><th scope=col>min.child.weight</th></tr></thead>\n",
       "<tbody>\n",
       "\t<tr><th scope=row>stats_params.5</th><td>0.855603</td><td>0.005375</td><td>5       </td><td>3       </td></tr>\n",
       "</tbody>\n",
       "</table>\n"
      ],
      "text/latex": [
       "\\begin{tabular}{r|llll}\n",
       "  & test.auc.mean & test.auc.std & max.depth & min.child.weight\\\\\n",
       "\\hline\n",
       "\tstats\\_params.5 & 0.855603 & 0.005375 & 5        & 3       \\\\\n",
       "\\end{tabular}\n"
      ],
      "text/markdown": [
       "\n",
       "| <!--/--> | test.auc.mean | test.auc.std | max.depth | min.child.weight | \n",
       "|---|\n",
       "| stats_params.5 | 0.855603 | 0.005375 | 5        | 3        | \n",
       "\n",
       "\n"
      ],
      "text/plain": [
       "               test.auc.mean test.auc.std max.depth min.child.weight\n",
       "stats_params.5 0.855603      0.005375     5         3               "
      ]
     },
     "metadata": {},
     "output_type": "display_data"
    }
   ],
   "source": [
    "result[which.max(result$test.auc.mean),]"
   ]
  },
  {
   "cell_type": "code",
   "execution_count": null,
   "metadata": {
    "collapsed": true
   },
   "outputs": [],
   "source": []
  },
  {
   "cell_type": "code",
   "execution_count": null,
   "metadata": {
    "collapsed": true
   },
   "outputs": [],
   "source": []
  },
  {
   "cell_type": "code",
   "execution_count": null,
   "metadata": {
    "collapsed": true
   },
   "outputs": [],
   "source": []
  },
  {
   "cell_type": "code",
   "execution_count": null,
   "metadata": {
    "collapsed": true
   },
   "outputs": [],
   "source": []
  },
  {
   "cell_type": "code",
   "execution_count": null,
   "metadata": {
    "collapsed": true
   },
   "outputs": [],
   "source": []
  }
 ],
 "metadata": {
  "kernelspec": {
   "display_name": "R",
   "language": "R",
   "name": "ir"
  },
  "language_info": {
   "codemirror_mode": "r",
   "file_extension": ".r",
   "mimetype": "text/x-r-source",
   "name": "R",
   "pygments_lexer": "r",
   "version": "3.3.2"
  }
 },
 "nbformat": 4,
 "nbformat_minor": 2
}
